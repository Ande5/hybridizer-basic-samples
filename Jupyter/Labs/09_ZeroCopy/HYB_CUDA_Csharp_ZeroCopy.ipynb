{
 "cells": [
  {
   "cell_type": "markdown",
   "metadata": {},
   "source": [
    "<div align=\"center\"><h1>ZeroCopy on GPU</h1></div>"
   ]
  },
  {
   "cell_type": "markdown",
   "metadata": {},
   "source": [
    "Compute large scale of data can be a problem with a gpu, it may not fit on the GPU.\n",
    "\n",
    "Then in this lab, we will study how to allocate data on the host and use them on the GPU with the sobel filter."
   ]
  },
  {
   "cell_type": "markdown",
   "metadata": {},
   "source": [
    "---\n",
    "## Prerequisites\n",
    "\n",
    "To get the most out of this lab, you should already be able to:\n",
    "- Write, compile, and run C# programs that both call CPU functions and **launch** GPU **kernels**.\n",
    "- Control parallel **thread hierarchy** using **execution configuration**.\n",
    "- Have some notions on images"
   ]
  },
  {
   "cell_type": "markdown",
   "metadata": {},
   "source": [
    "---\n",
    "## Objectives\n",
    "\n",
    "By the time you complete this lab, you will be able to:\n",
    "- Accelerate image processing algorithms with Hybridizer and GPUs\n",
    "- Allocate data on the host and compute them on the GPU"
   ]
  },
  {
   "cell_type": "markdown",
   "metadata": {},
   "source": [
    "---\n",
    "## Working Set\n",
    "\n",
    "In this lab, we will be processing an reference image(following image) \n",
    "\n"
   ]
  },
  {
   "cell_type": "markdown",
   "metadata": {},
   "source": [
    "<div style=\"display:table;margin:0 auto\"><div style=\"display:block;float:left\"><img title=\"lena_highres_greyscale.bmp\" src=\"./images/lena_highres_greyscale.bmp\" width=\"384\"/></div></div>"
   ]
  },
  {
   "cell_type": "markdown",
   "metadata": {},
   "source": [
    "---\n",
    "## First GPU Implementation\n",
    "\n",
    "We start the implementation of the filter with a first gpu approach as follow:\n",
    "\n",
    "```csharp\n",
    "[EntryPoint]\n",
    "public static void ComputeSobel(byte[] outputPixel, byte[] inputPixel, int width, int height)\n",
    "{\n",
    "    for (int i = threadIdx.y + blockIdx.y * blockDim.y; i < height; i += blockDim.y * gridDim.y)\n",
    "    {\n",
    "        for (int j = threadIdx.x + blockIdx.x * blockDim.x; j < width; j += blockDim.x * gridDim.x)\n",
    "        {\n",
    "            int output = 0;\n",
    "            if (i != 0 && j != 0 && i != height - 1 && j != width - 1)\n",
    "            {\n",
    "                int pixelId = i * width + j;\n",
    "                byte topl = inputPixel[pixelId - width - 1];\n",
    "                byte top = inputPixel[pixelId - width];\n",
    "                byte topr = inputPixel[pixelId - width + 1];\n",
    "                byte l = inputPixel[pixelId - 1];\n",
    "                byte r = inputPixel[pixelId + 1];\n",
    "                byte botl = inputPixel[pixelId + width - 1];\n",
    "                byte bot = inputPixel[pixelId + width];\n",
    "                byte botr = inputPixel[pixelId + width + 1];\n",
    "\n",
    "                int sobelx = (topl) + (2 * l) + (botl) - (topr) - (2 * r) - (botr);\n",
    "                int sobely = (topl + 2 * top + topr - botl - 2 * bot - botr);\n",
    "\n",
    "                int squareSobelx = sobelx * sobelx;\n",
    "                int squareSobely = sobely * sobely;\n",
    "\n",
    "                output = (int)Math.Sqrt((squareSobelx + squareSobely));\n",
    "                \n",
    "                if (output < 0)\n",
    "                {\n",
    "                    output = -output;\n",
    "                }\n",
    "                if (output > 255)\n",
    "                {\n",
    "                    output = 255;\n",
    "                }\n",
    "\n",
    "                outputPixel[pixelId] = (byte)output;\n",
    "            }\n",
    "        }\n",
    "    }\n",
    "}\n",
    "        \n",
    "```\n",
    "\n",
    "this approach has parallelism and as you can see in `01-parallel-gpu.cs`, the image is load and it's a basic use of the hybridizer. All is copied on the GPU to process it."
   ]
  },
  {
   "cell_type": "code",
   "execution_count": null,
   "metadata": {},
   "outputs": [],
   "source": [
    "!hybridizer-cuda 01-parallel-gpu.cs -additionalDotNetAssemblies System.Drawing -o Target/parallel/01-parallel-gpu.exe -run\n",
    "\n",
    "# convert bmp to png to have interactive display\n",
    "from PIL import Image\n",
    "img = Image.open('./01/hybrid/lena_highres_sobel.bmp')\n",
    "img.save('./01/hybrid/lena_highres_sobel.png', 'png')\n",
    "from IPython.display import Image\n",
    "Image(filename=\"./Target/parallel/hybrid/lena_highres_sobel.png\", width=384, height=384)"
   ]
  },
  {
   "cell_type": "markdown",
   "metadata": {},
   "source": [
    "---\n",
    "## Zero Copy implementation\n",
    "\n",
    "Now, we want to leave the data on the host instead of copy it on the GPU,then we have to do some changes :\n",
    "- lock the memory on the host for the base image and the result image with [Bitmap.LockBits](https://docs.microsoft.com/fr-fr/dotnet/api/system.drawing.bitmap.lockbits?view=netframework-4.7.2) method\n",
    "- take the pointer of the two images with [BitmapData.Scan0](https://docs.microsoft.com/fr-fr/dotnet/api/system.drawing.imaging.bitmapdata.scan0?view=netframework-4.7.2#System_Drawing_Imaging_BitmapData_Scan0) property\n",
    "- pin images memory for cuda \n",
    "- modify the kernel to use byte pointer instead of array\n",
    "- and don't forget to unpinned ans unlock memory\n",
    "\n",
    "Modify `02-lock-gpu.cs` to zero copy the image and process it on the GPU. \n",
    "\n",
    "See the `02-lock-gpu.cs` file in the `Solutions` directory if you get stuck."
   ]
  },
  {
   "cell_type": "code",
   "execution_count": null,
   "metadata": {},
   "outputs": [],
   "source": [
    "!hybridizer-cuda 02-lock-gpu.cs -additionalDotNetAssemblies System.Drawing -o Target/lock/02-lock-gpu.exe -run\n",
    "\n",
    "# convert bmp to png to have interactive display\n",
    "from PIL import Image\n",
    "img = Image.open('./01/hybrid/lena_highres_sobel.bmp')\n",
    "img.save('./01/hybrid/lena_highres_sobel.png', 'png')\n",
    "from IPython.display import Image\n",
    "Image(filename=\"./Target/parallel/hybrid/lena_highres_sobel.png\", width=384, height=384)"
   ]
  }
 ],
 "metadata": {
  "kernelspec": {
   "display_name": "Python 3",
   "language": "python",
   "name": "python3"
  },
  "language_info": {
   "codemirror_mode": {
    "name": "ipython",
    "version": 3
   },
   "file_extension": ".py",
   "mimetype": "text/x-python",
   "name": "python",
   "nbconvert_exporter": "python",
   "pygments_lexer": "ipython3",
   "version": "3.7.0"
  }
 },
 "nbformat": 4,
 "nbformat_minor": 2
}
