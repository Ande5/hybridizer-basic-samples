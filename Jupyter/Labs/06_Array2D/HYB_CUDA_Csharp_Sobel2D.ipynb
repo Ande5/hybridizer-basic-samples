{
 "cells": [
  {
   "cell_type": "markdown",
   "metadata": {},
   "source": [
    "<div align=\"center\"><h1>2D array on GPU</h1></div>"
   ]
  },
  {
   "cell_type": "markdown",
   "metadata": {},
   "source": [
    "---\n",
    "##  Compute with two dimensionnal array\n",
    "\n",
    "Before begin you need to know how to create, allocate and use a two dimensionnal array in C#.\n",
    "\n",
    "Hybridizer allow you to use multidimensionnal arrays instead of only one dimensionnal array, to use it we need to:\n",
    "- use the `-hybridarray` option in the command line\n",
    "\n",
    "- you can use the `y` component of `threadIdx  blockIdx  blockDim  gridDim` to make a second loop to compute the 2D array.\n",
    "\n",
    "- you can choose the size of the block and the grid with `SetDistrib` function\n",
    "```csharp\n",
    "dynamic wrapper = HybRunner.Cuda().SetDistrib(number_of_block_x,\n",
    "                                                number_of_thread_x,\n",
    "                                                number_of_block_y,\n",
    "                                                number_of_thread_y,\n",
    "                                                number_of_block_z, //the value is 1 in this example\n",
    "                                                size_of_shared_memory //except if you use shared memory set 0\n",
    "                                                ).Wrap(new Program());\n",
    "```\n",
    "\n",
    "Edit the file `01_Array2D.cs` and use a 2D array instead of an 1D array.\n",
    "\n",
    "See the `01_Array2D.cs` file in the `Solutions` directory if you get stuck."
   ]
  },
  {
   "cell_type": "code",
   "execution_count": null,
   "metadata": {},
   "outputs": [],
   "source": [
    "!hybridizer-cuda 01_Array2D.cs -o Target/array2D/01_Array2D.exe -run"
   ]
  }
 ],
 "metadata": {
  "kernelspec": {
   "display_name": "Python 3",
   "language": "python",
   "name": "python3"
  },
  "language_info": {
   "codemirror_mode": {
    "name": "ipython",
    "version": 3
   },
   "file_extension": ".py",
   "mimetype": "text/x-python",
   "name": "python",
   "nbconvert_exporter": "python",
   "pygments_lexer": "ipython3",
   "version": "3.7.0"
  }
 },
 "nbformat": 4,
 "nbformat_minor": 2
}
