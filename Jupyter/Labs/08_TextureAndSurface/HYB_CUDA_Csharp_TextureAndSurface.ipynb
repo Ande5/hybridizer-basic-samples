{
 "cells": [
  {
   "cell_type": "markdown",
   "metadata": {},
   "source": [
    "<div align=\"center\"><h1>Texture And Surface on GPU</h1></div>"
   ]
  },
  {
   "cell_type": "markdown",
   "metadata": {},
   "source": [
    "---\n",
    "## Prerequisites\n",
    "\n",
    "To get the most out of this lab, you should already be able to:\n",
    "- Write, compile, and run C# programs that both call CPU functions and **launch** GPU **kernels**.\n",
    "- Control parallel **thread hierarchy** using **execution configuration**.\n",
    "- Have some notions on images"
   ]
  },
  {
   "cell_type": "markdown",
   "metadata": {},
   "source": [
    "---\n",
    "## Objectives\n",
    "\n",
    "By the time you complete this lab, you will be able to:\n",
    "- Accelerate image processing algorithms with Texture and Surface memory"
   ]
  },
  {
   "cell_type": "markdown",
   "metadata": {},
   "source": [
    "---\n",
    "## Sobel Filter"
   ]
  },
  {
   "cell_type": "markdown",
   "metadata": {},
   "source": [
    "The Sobel operator, sometimes called the Sobel–Feldman operator or Sobel filter, is used in image processing and computer vision, particularly within edge detection algorithms where it creates an image emphasising edges. \n",
    "\n",
    "Technically, it is a discrete differentiation operator, computing an approximation of the gradient of the image intensity function. At each point in the image, the result of the Sobel–Feldman operator is either the corresponding gradient vector or the norm of this vector. The Sobel–Feldman operator is based on convolving the image with a small, separable, and integer-valued filter in the horizontal and vertical directions and is therefore relatively inexpensive in terms of computations. On the other hand, the gradient approximation that it produces is relatively crude, in particular for high-frequency variations in the image."
   ]
  },
  {
   "cell_type": "markdown",
   "metadata": {},
   "source": [
    "---\n",
    "## GPU"
   ]
  },
  {
   "cell_type": "markdown",
   "metadata": {},
   "source": [
    "The first implementation is directly with the GPU, the main program `01-gpu.cs` contains a program that is already working and compute the sobel filter."
   ]
  },
  {
   "cell_type": "code",
   "execution_count": null,
   "metadata": {},
   "outputs": [],
   "source": [
    "import platform\n",
    "if platform.system() == \"Windows\" : # create directory on Windows\n",
    "    !mkdir output-01-gpu \n",
    "if platform.system() == \"Linux\" : # create directory on Linux\n",
    "    !mkdir -p ./output-01-gpu \n",
    "    \n",
    "!hybridizer-cuda 01-gpu.cs graybitmap.cs -o Target/GPU/01-gpu.exe -run\n",
    "\n",
    "# convert bmp to png to have interactive display\n",
    "from PIL import Image\n",
    "img = Image.open('./output-01-gpu/sobel.bmp')\n",
    "img.save('./output-01-gpu/sobel.png', 'png')\n",
    "from IPython.display import Image\n",
    "Image(filename=\"./output-01-gpu/sobel.png\", width=384, height=384)"
   ]
  },
  {
   "cell_type": "markdown",
   "metadata": {},
   "source": [
    "---\n",
    "## [Textures](https://docs.nvidia.com/cuda/cuda-c-programming-guide/index.html#texture-memory)"
   ]
  },
  {
   "cell_type": "markdown",
   "metadata": {},
   "source": [
    "The texture memory spaces reside in device memory and are cached in texture cache, so a texture fetch costs one memory read from device memory only on a cache miss, otherwise it just costs one read from texture cache. The texture cache is optimized for 2D spatial locality, so threads of the same warp that read texture or surface addresses that are close together in 2D will achieve best performance. Also, it is designed for streaming fetches with a constant latency; a cache hit reduces DRAM bandwidth demand but not fetch latency. The texture memory is read-only.\n",
    "\n",
    "With the hybridizer, you'll need to use the [texture object API](https://docs.nvidia.com/cuda/cuda-c-programming-guide/index.html#texture-object-api) and use [Texture functions](https://docs.nvidia.com/cuda/cuda-c-programming-guide/index.html#texture-object-api-appendix) like in the [TextureHelpers.cs](../../edit/08_TextureAndSurface/TextureHelpers.cs) file that have the functions implemented with the `[IntrinsicFunction(\"cuda function\")]` attribute. \n",
    "\n",
    "Now to create a Texture object you'll need to :\n",
    "- Create an `IntPtr` with the float array you want to copy in texture memory(you need to create the hybrunner before to create this `IntPtr`.\n",
    "- Create a [cudaChannelFormatDesc](https://docs.nvidia.com/cuda/cuda-runtime-api/structcudaChannelFormatDesc.html) to decribe the format of the value. Set the value to determine which type of data you want to use(float, float2, ushort, ushort4, ...).\n",
    "- Create the [CUDA Array](https://docs.nvidia.com/cuda/cuda-runtime-api/group__CUDART__TYPES.html#group__CUDART__TYPES_1gaf8b3ba752727d996074a71ee997ce68) with the `IntPtr` and the cudaChannelFormatDesc you have previously created, the width and the height to have a 2D array in the `CreateCudaArray` function that alloc the array.\n",
    "- Create the [Ressource Descriptor](https://docs.nvidia.com/cuda/cuda-runtime-api/structcudaResourceDesc.html#structcudaResourceDesc) with the cuda Array.\n",
    "- Create the [Texture Descriptor](https://docs.nvidia.com/cuda/cuda-runtime-api/structcudaTextureDesc.html#structcudaTextureDesc) with the `CreateCudaTextureDesc()` function.\n",
    "- Finally create the texture object, then use `cuda.CreateTextureObject` with the texture object, the ressource descriptor and the texture descriptor. Now your texture is operational and you can use it.\n",
    "\n",
    "```csharp\n",
    "//creation of the source pointer\n",
    "IntPtr src = runner.Marshaller.MarshalManagedToNative(imageFloat);\n",
    "\n",
    "//bind texture\n",
    "cudaChannelFormatDesc channelDescTex = TextureHelpers.cudaCreateChannelDesc(32, 0, 0, 0, cudaChannelFormatKind.cudaChannelFormatKindFloat);\n",
    "//create CUDA Array\n",
    "cudaArray_t cuArrayTex = TextureHelpers.CreateCudaArray(channelDescTex, src, (int)width, (int)height);\n",
    "//create Ressource descriptor\n",
    "cudaResourceDesc resDescTex = TextureHelpers.CreateCudaResourceDesc(cuArrayTex);\n",
    "\n",
    "//create Texture descriptor\n",
    "cudaTextureDesc texDesc = TextureHelpers.CreateCudaTextureDesc();\n",
    "\n",
    "//create Texture object\n",
    "cudaTextureObject_t texObj;\n",
    "cuda.CreateTextureObject(out texObj, ref resDescTex, ref texDesc);\n",
    "```\n",
    "\n",
    "Then you can read your texture with the `text2D` function to access to the value you want with the texture object, the x and the y position of the value. \n",
    "```csharp\n",
    "tex2D(cudaTextureObject_t texObj, float x, float y)\n",
    "```\n",
    "\n",
    "Now modify `02-texture.cs` to allow the compute with the texture.\n",
    "\n",
    "See the `02-texture.cs` file in the `Solutions` directory if you get stuck."
   ]
  },
  {
   "cell_type": "code",
   "execution_count": null,
   "metadata": {},
   "outputs": [],
   "source": [
    "import platform\n",
    "if platform.system() == \"Windows\" : # create directory on Windows\n",
    "    !mkdir output-02-texture\n",
    "if platform.system() == \"Linux\" : # create directory on Linux\n",
    "    !mkdir -p ./output-02-texture\n",
    "    \n",
    "!hybridizer-cuda 02-texture.cs graybitmap.cs TextureHelpers.cs -o Target/Texture/02-texture.exe -run\n",
    "\n",
    "# convert bmp to png to have interactive display\n",
    "from PIL import Image\n",
    "img = Image.open('./output-02-texture/sobel.bmp')\n",
    "img.save('./output-02-texture/sobel.png', 'png')\n",
    "from IPython.display import Image\n",
    "Image(filename=\"./output-02-texture/sobel.png\", width=384, height=384)"
   ]
  },
  {
   "cell_type": "markdown",
   "metadata": {},
   "source": [
    "---\n",
    "## [Surfaces](https://docs.nvidia.com/cuda/cuda-c-programming-guide/index.html#surface-memory)\n"
   ]
  },
  {
   "cell_type": "markdown",
   "metadata": {},
   "source": [
    "The surface memory is like the texture one, the surface memory spaces reside in device memory and are cached in texture cache, so a surface read costs one memory read from device memory only on a cache miss, otherwise it just costs one read from texture cache.\n",
    "\n",
    "Like the texture, with the hybridizer, you'll need to use the [surface object API](https://docs.nvidia.com/cuda/cuda-c-programming-guide/index.html#surface-object-api) and use [Surface functions](https://docs.nvidia.com/cuda/cuda-c-programming-guide/index.html#surface-object-api-appendix) like in the [TextureHelpers.cs](../../edit/08_TextureAndSurface/TextureHelpers.cs) file that have the functions implemented with the `[IntrinsicFunction(\"cuda function\")]` attribute. \n",
    "\n",
    "    Now to create a Surface object you'll need to :\n",
    "- Create a [cudaChannelFormatDesc](https://docs.nvidia.com/cuda/cuda-runtime-api/structcudaChannelFormatDesc.html) to decribe the format of the value.\n",
    "- Create the [CUDA Array](https://docs.nvidia.com/cuda/cuda-runtime-api/group__CUDART__TYPES.html#group__CUDART__TYPES_1gaf8b3ba752727d996074a71ee997ce68) \n",
    "- alloc the CUDA Array with [`cuda.MallocArray`](https://docs.nvidia.com/cuda/cuda-runtime-api/group__CUDART__MEMORY.html#group__CUDART__MEMORY_1g6728eb7dc25f332f50bdb16a19620d3d) with the CUDA Array, the cudaChannelFormatDesc, the width, the height to have a 2D array and the flag `cudaArraySurfaceLoadStore` to specify you want to alloc a surface.\n",
    "- Create the [Ressource Descriptor](https://docs.nvidia.com/cuda/cuda-runtime-api/structcudaResourceDesc.html#structcudaResourceDesc) with the cuda Array.\n",
    "- Finally create the texture object, then use `cuda.CreateSurfaceObject` with the texture object, the ressource descriptor and the texture descriptor. Now your texture is operational and you can use it.\n",
    "\n",
    "```csharp\n",
    "//bind surface\n",
    "cudaChannelFormatDesc channelDescSurf = TextureHelpers.cudaCreateChannelDesc(32, 0, 0, 0, cudaChannelFormatKind.cudaChannelFormatKindFloat);\n",
    "cudaArray_t cuArraySurf;\n",
    "//alloc CUDA Array\n",
    "cuda.MallocArray(out cuArraySurf, ref channelDescSurf, width, height, cudaMallocArrayFlags.cudaArraySurfaceLoadStore);\n",
    "\n",
    "//create cudaResourceDesc for surface\n",
    "cudaResourceDesc resDescSurf = TextureHelpers.CreateCudaResourceDesc(cuArraySurf);\n",
    "\n",
    "//create surface object\n",
    "cudaSurfaceObject_t surfObj;\n",
    "cuda.CreateSurfaceObject(out surfObj, ref resDescSurf);\n",
    "```\n",
    "\n",
    "Now you can write in the surface with the `surf2Dwrite(float data, cudaSurfaceObject_t surfObj, int x, int y)` function where data is the new value, surfobj is the surface object, x is the x coordinate in byte and y is the y coordinate.\n",
    "\n",
    "```csharp\n",
    "TExtureHelpers.surf2Dwrite(1.0F, surfObj, sizeOf(float) * 2, sizeOf(float) * 4); //write 1.0F in surfObj in the position (2,4)\n",
    "```\n",
    "\n",
    "Finally to have your data on the host you need to create a float array and pinned it to have an `IntPtr` and then use [`cuda.MemcpyFromArray`](https://docs.nvidia.com/cuda/cuda-runtime-api/group__CUDART__MEMORY.html#group__CUDART__MEMORY_1gade51067f967d3a394533515524fe3fa) to retrieve the data on the host.\n",
    "\n",
    "```csharp\n",
    "//pinned float array to allow the copy of the surface object on the host\n",
    "float[] imageCompute = new float[width * height];\n",
    "GCHandle handle = GCHandle.Alloc(imageCompute, GCHandleType.Pinned);\n",
    "IntPtr dest = handle.AddrOfPinnedObject();\n",
    "\n",
    "cuda.MemcpyFromArray(dest, cuArraySurf, 0, 0, width * height * sizeof(float), cudaMemcpyKind.cudaMemcpyDeviceToHost);\n",
    "```\n",
    "\n",
    "Now modify `03-surface.cs` to allow the compute with the surface.\n",
    "\n",
    "See the `03-surface.cs` file in the `Solutions` directory if you get stuck."
   ]
  },
  {
   "cell_type": "code",
   "execution_count": null,
   "metadata": {},
   "outputs": [],
   "source": [
    "import platform\n",
    "if platform.system() == \"Windows\" : # create directory on Windows\n",
    "    !mkdir output-03-surface\n",
    "if platform.system() == \"Linux\" : # create directory on Linux\n",
    "    !mkdir -p ./output-03-surface\n",
    "    \n",
    "!hybridizer-cuda 03-surface.cs graybitmap.cs TextureHelpers.cs -o Target/Surface/03-surface.exe -run\n",
    "\n",
    "# convert bmp to png to have interactive display\n",
    "from PIL import Image\n",
    "img = Image.open('./output-03-surface/sobel.bmp')\n",
    "img.save('./output-03-surface/sobel.png', 'png')\n",
    "from IPython.display import Image\n",
    "Image(filename=\"./output-03-surface/sobel.png\", width=384, height=384)"
   ]
  }
 ],
 "metadata": {
  "kernelspec": {
   "display_name": "Python 3",
   "language": "python",
   "name": "python3"
  },
  "language_info": {
   "codemirror_mode": {
    "name": "ipython",
    "version": 3
   },
   "file_extension": ".py",
   "mimetype": "text/x-python",
   "name": "python",
   "nbconvert_exporter": "python",
   "pygments_lexer": "ipython3",
   "version": "3.7.0"
  }
 },
 "nbformat": 4,
 "nbformat_minor": 2
}
