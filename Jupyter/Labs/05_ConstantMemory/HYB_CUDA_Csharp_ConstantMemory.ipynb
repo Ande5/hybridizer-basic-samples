{
 "cells": [
  {
   "cell_type": "markdown",
   "metadata": {},
   "source": [
    "<div align=\"center\"><h1>Constant Memory on GPU</h1></div>"
   ]
  },
  {
   "cell_type": "markdown",
   "metadata": {},
   "source": [
    "When you using the hybridizer, you probably want to use some constant memory on the device.\n",
    "\n",
    "This lab let you learn how to have some constant memory on the device."
   ]
  },
  {
   "cell_type": "markdown",
   "metadata": {},
   "source": [
    "---\n",
    "##  Run code on the GPU\n",
    "\n",
    "Using hybridizer to run some code, we need to:\n",
    "- adding `[EntryPoint]` on method of interest.\n",
    "- Using `ThreadIdx.x`(Position of the thread in its block), `BlockIdx.x`(Position of the Block in its Grid), `BlockDim.x`(Number of thread in the block) and `GridDim.x`(Number of block in the grid). According to this:![Thread And Block](Images/threadAndBlock.jpg)\n",
    "\n",
    "- By default, hybridizer configure with 128 threads by block and  16 * number on multiprocessor block. you can modify it with the `SetDistrib` function that you call on the wrapper before execute your kernel.\n",
    "```csharp\n",
    "wrapped.SetDistrib(number_of_blocks, number_of_threads).mykernel(...);\n",
    "```\n",
    "- Add boilerplate code ton invoke method on gpu\n",
    "\n",
    "Modify the `01-gpu-run.cs` so the `Run` method runs on a GPU.\n",
    "\n",
    "See the `01-gpu-run.cs` file in the `Solutions` directory if you get stuck."
   ]
  },
  {
   "cell_type": "code",
   "execution_count": null,
   "metadata": {},
   "outputs": [],
   "source": [
    "!hybridizer-cuda 01-gpu-run.cs -o Target/gpu-run/01-gpu-run.exe -run"
   ]
  },
  {
   "cell_type": "markdown",
   "metadata": {},
   "source": [
    "---\n",
    "## Constant memory\n",
    "\n",
    "Now, after you run the method on the gpu, you can create a static member that goes on the GPU's constant memory. The GPU's constant memory can accelerate performance when lots of thread are reading the same adress by passing it in a cache. \n",
    "For that we need to:\n",
    "- create a public static member and decorate it like the following\n",
    "```csharp\n",
    "[HybridConstant(Location = ConstantLocation.ConstantMemory)]\n",
    "public static type variableName = value;\n",
    "```\n",
    "\n",
    "Modify the `02-memory-constant.cs` so data is now a static member and go in constant memory.\n",
    "\n",
    "See the `02-memory-constant.cs` file in the `Solutions` directory if you get stuck."
   ]
  },
  {
   "cell_type": "code",
   "execution_count": null,
   "metadata": {},
   "outputs": [],
   "source": [
    "!hybridizer-cuda 02-memory-constant.cs -o Target/memory-constant/02-memory-constant.exe -run"
   ]
  }
 ],
 "metadata": {
  "kernelspec": {
   "display_name": "Python 3",
   "language": "python",
   "name": "python3"
  },
  "language_info": {
   "codemirror_mode": {
    "name": "ipython",
    "version": 3
   },
   "file_extension": ".py",
   "mimetype": "text/x-python",
   "name": "python",
   "nbconvert_exporter": "python",
   "pygments_lexer": "ipython3",
   "version": "3.7.0"
  }
 },
 "nbformat": 4,
 "nbformat_minor": 2
}
